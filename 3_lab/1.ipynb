{
 "cells": [
  {
   "cell_type": "code",
   "execution_count": 11,
   "metadata": {},
   "outputs": [
    {
     "data": {
      "text/plain": [
       "<module 'my_class' from 'd:\\\\Тк-441\\\\YVLaboratorni\\\\YVLaboratorni\\\\3_lab\\\\my_class.py'>"
      ]
     },
     "execution_count": 11,
     "metadata": {},
     "output_type": "execute_result"
    }
   ],
   "source": [
    "import importlib\n",
    "import my_class\n",
    "\n",
    "importlib.reload(my_class)"
   ]
  },
  {
   "cell_type": "code",
   "execution_count": 6,
   "metadata": {},
   "outputs": [
    {
     "name": "stdout",
     "output_type": "stream",
     "text": [
      "<class 'my_class.MySuperClass'>\n",
      "Help on class MySuperClass in module my_class:\n",
      "\n",
      "class MySuperClass(builtins.object)\n",
      " |  MySuperClass(surname, name, mark)\n",
      " |  \n",
      " |  Тестовий клас, зараз реалізуємо опис студента\n",
      " |  \n",
      " |  ---\n",
      " |  \n",
      " |  surname : str\n",
      " |      Вороновський\n",
      " |  \n",
      " |  Methods defined here:\n",
      " |  \n",
      " |  __init__(self, surname, name, mark)\n",
      " |      Ініціалізуємо обєкт\n",
      " |      - в середині конструктора створюються атрибути\n",
      " |  \n",
      " |  __len__(self)\n",
      " |  \n",
      " |  __repr__(self)\n",
      " |      Return repr(self).\n",
      " |  \n",
      " |  ----------------------------------------------------------------------\n",
      " |  Data descriptors defined here:\n",
      " |  \n",
      " |  __dict__\n",
      " |      dictionary for instance variables (if defined)\n",
      " |  \n",
      " |  __weakref__\n",
      " |      list of weak references to the object (if defined)\n",
      "\n"
     ]
    }
   ],
   "source": [
    "from my_class import MySuperClass, function_in_module\n",
    "\n",
    "print(MySuperClass)\n",
    "help(MySuperClass)"
   ]
  },
  {
   "cell_type": "code",
   "execution_count": 7,
   "metadata": {},
   "outputs": [
    {
     "name": "stdout",
     "output_type": "stream",
     "text": [
      "['Студент VB B отримав оцінку 4', 'Студент FB B отримав оцінку 5', 'Студент DS S отримав оцінку 3', 'Студент TY D отримав оцінку 4']\n"
     ]
    }
   ],
   "source": [
    "name = [\"B\", \"B\", \"S\", \"D\"]\n",
    "surname = [\"VB\", \"FB\", \"DS\", \"TY\"]\n",
    "mark = [4, 5, 3, 4]\n",
    "\n",
    "print([f\"Студент {surname[i]} {name[i]} отримав оцінку {mark[i]}\" for i in range(len(name))])"
   ]
  },
  {
   "cell_type": "code",
   "execution_count": 1,
   "metadata": {},
   "outputs": [
    {
     "ename": "SyntaxError",
     "evalue": "invalid syntax (3570019431.py, line 8)",
     "output_type": "error",
     "traceback": [
      "\u001b[1;36m  Cell \u001b[1;32mIn[1], line 8\u001b[1;36m\u001b[0m\n\u001b[1;33m    print(f\"Студент {d[\"Прізвище\"][i]} {d[\"Імя\"][i]} отримав оцінку {d[\"Оцінка\"][i]}\")\u001b[0m\n\u001b[1;37m                        ^\u001b[0m\n\u001b[1;31mSyntaxError\u001b[0m\u001b[1;31m:\u001b[0m invalid syntax\n"
     ]
    }
   ],
   "source": [
    "d = {\n",
    "    \"Прізвище\": [\"B\", \"B\", \"S\", \"D\"],\n",
    "    \"Імя\": [\"VB\", \"FB\", \"DS\", \"TY\"],\n",
    "    \"Оцінка\": [4, 5, 3, 4],\n",
    "}\n",
    "\n",
    "for i in range(len(d[\"Прізвище\"])):\n",
    "    print(f\"Студент {d[\"Прізвище\"][i]} {d[\"Імя\"][i]} отримав оцінку {d[\"Оцінка\"][i]}\")"
   ]
  },
  {
   "cell_type": "code",
   "execution_count": null,
   "metadata": {},
   "outputs": [],
   "source": [
    "from my_class import MySuperClass\n",
    "c = [MySuperClass(\"B\", \"VB\", 4),\n",
    "     MySuperClass(\"B\", \"FB\", 5),\n",
    "     MySuperClass(\"S\", \"DS\", 3),\n",
    "     MySuperClass(\"D\", \"TY\", 4)\n",
    "     ]\n",
    "\n",
    "for student in c:\n",
    "    print(f\"Студент {student.surname} {student.name} отримав оцінку {student.mark}\")"
   ]
  },
  {
   "cell_type": "markdown",
   "metadata": {},
   "source": [
    "### Частина 2"
   ]
  },
  {
   "cell_type": "code",
   "execution_count": 20,
   "metadata": {},
   "outputs": [
    {
     "name": "stdout",
     "output_type": "stream",
     "text": [
      "Викликаємо __init__\n",
      "Представлення обєкту Студент, його задають: MySuperClass(surname, name, mark)\n",
      "Help on MySuperClass in module my_class object:\n",
      "\n",
      "class MySuperClass(builtins.object)\n",
      " |  MySuperClass(surname, name, mark)\n",
      " |  \n",
      " |  Тестовий клас, зараз реалізуємо опис студента\n",
      " |  \n",
      " |  ---\n",
      " |  \n",
      " |  surname : str\n",
      " |      Вороновський\n",
      " |  \n",
      " |  Methods defined here:\n",
      " |  \n",
      " |  __init__(self, surname, name, mark)\n",
      " |      Ініціалізуємо обєкт\n",
      " |      - в середині конструктора створюються атрибути\n",
      " |  \n",
      " |  __len__(self)\n",
      " |  \n",
      " |  __repr__(self)\n",
      " |      Return repr(self).\n",
      " |  \n",
      " |  ----------------------------------------------------------------------\n",
      " |  Data descriptors defined here:\n",
      " |  \n",
      " |  __dict__\n",
      " |      dictionary for instance variables (if defined)\n",
      " |  \n",
      " |  __weakref__\n",
      " |      list of weak references to the object (if defined)\n",
      "\n",
      "Тестовий клас, зараз реалізуємо опис студента\n",
      "    \n",
      "    ---\n",
      "\n",
      "    surname : str\n",
      "        Вороновський\n",
      "    \n",
      "    \n",
      "Довжина прізвища:  4\n",
      "Беремо атрибут імені BB\n"
     ]
    }
   ],
   "source": [
    "from my_class import MySuperClass\n",
    "obj = MySuperClass(\"ББаа\", \"BB\", None)\n",
    "\n",
    "print(obj)\n",
    "help(obj)\n",
    "\n",
    "print(MySuperClass.__doc__)\n",
    "\n",
    "print(\"Довжина прізвища: \", len(obj))\n",
    "\n",
    "print(\"Беремо атрибут імені\", obj.name)"
   ]
  },
  {
   "cell_type": "markdown",
   "metadata": {},
   "source": [
    "### Частина3"
   ]
  },
  {
   "cell_type": "code",
   "execution_count": 19,
   "metadata": {},
   "outputs": [
    {
     "name": "stdout",
     "output_type": "stream",
     "text": [
      "Викликаємо __init__\n",
      "MySuperClass(surname=Вороновський, name=Юрій, mark=4, age=18, gender=Чоловік)\n"
     ]
    }
   ],
   "source": [
    "# Визначення класу MySuperClass\n",
    "class MySuperClass:\n",
    "    \"\"\"Тестовий клас, зараз реалізуємо опис студента\n",
    "    \n",
    "    ---\n",
    "\n",
    "    surname : str\n",
    "        Вороновський\n",
    "    \n",
    "    name : str\n",
    "        Юрій\n",
    "    \n",
    "    mark : int\n",
    "        4\n",
    "    \n",
    "    age : int\n",
    "        Вік студента\n",
    "    \n",
    "    gender : str\n",
    "        Стать студента\n",
    "    \"\"\"\n",
    "    def __init__(self, surname: str, name: str, mark: int, age: int, gender: str):\n",
    "        \"\"\"\n",
    "        Ініціалізуємо об'єкт\n",
    "        - в середині конструктора створюються атрибути\n",
    "        \n",
    "        Args:\n",
    "            surname (str): Прізвище студента.\n",
    "            name (str): Ім'я студента.\n",
    "            mark (int): Оцінка студента.\n",
    "            age (int): Вік студента.\n",
    "            gender (str): Стать студента.\n",
    "        \"\"\"\n",
    "        print(\"Викликаємо __init__\")\n",
    "        self.surname = surname\n",
    "        self.name = name\n",
    "        self.mark = mark\n",
    "        self.age = age\n",
    "        self.gender = gender\n",
    "    \n",
    "    def __repr__(self):\n",
    "        return f\"MySuperClass(surname={self.surname}, name={self.name}, mark={self.mark}, age={self.age}, gender={self.gender})\"\n",
    "    \n",
    "    def __len__(self):\n",
    "        return len(self.surname)\n",
    "\n",
    "# Визначення класу Students\n",
    "class Students:\n",
    "    \"\"\"\n",
    "    Клас Students для зберігання інформації про студентів.\n",
    "\n",
    "    Attributes:\n",
    "        surname (str): Вороновський.\n",
    "        name (str): Юрій.\n",
    "        mark (int): 4.\n",
    "        age (int): Вік студента.\n",
    "        gender (str): Стать студента.\n",
    "    \"\"\"\n",
    "\n",
    "    def __init__(self, surname: str, name: str, mark: int, age: int, gender: str):\n",
    "        \"\"\"\n",
    "        Ініціалізує новий екземпляр класу Students.\n",
    "\n",
    "        Args:\n",
    "            surname (str): Прізвище студента.\n",
    "            name (str): Ім'я студента.\n",
    "            mark (int): Оцінка студента.\n",
    "            age (int): Вік студента.\n",
    "            gender (str): Стать студента.\n",
    "        \"\"\"\n",
    "        print(\"Викликаємо __init__\")\n",
    "        self.surname = surname\n",
    "        self.name = name\n",
    "        self.mark = mark\n",
    "        self.age = age\n",
    "        self.gender = gender\n",
    "\n",
    "# Створення екземплярів класів\n",
    "student1 = MySuperClass(surname=\"Вороновський\", name=\"Юрій\", mark=4, age=18, gender=\"Чоловік\")\n",
    "\n",
    "# Виведення на екран\n",
    "print(student1)\n"
   ]
  }
 ],
 "metadata": {
  "kernelspec": {
   "display_name": "Python 3.8.6 32-bit",
   "language": "python",
   "name": "python3"
  },
  "language_info": {
   "codemirror_mode": {
    "name": "ipython",
    "version": 3
   },
   "file_extension": ".py",
   "mimetype": "text/x-python",
   "name": "python",
   "nbconvert_exporter": "python",
   "pygments_lexer": "ipython3",
   "version": "3.8.6"
  },
  "orig_nbformat": 4,
  "vscode": {
   "interpreter": {
    "hash": "10dc22ba229f885a15fdb38153a22e7da339ac0ad2411ac1bde6e4d40ff38cec"
   }
  }
 },
 "nbformat": 4,
 "nbformat_minor": 2
}
