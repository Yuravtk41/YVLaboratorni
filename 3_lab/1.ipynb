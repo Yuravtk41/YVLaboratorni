{
 "cells": [
  {
   "cell_type": "code",
   "execution_count": 5,
   "metadata": {},
   "outputs": [
    {
     "data": {
      "text/plain": [
       "<module 'my_class' from 'd:\\\\Тк-441\\\\YVLaboratorni\\\\YVLaboratorni\\\\3_lab\\\\my_class.py'>"
      ]
     },
     "execution_count": 5,
     "metadata": {},
     "output_type": "execute_result"
    }
   ],
   "source": [
    "import importlib\n",
    "import my_class\n",
    "\n",
    "importlib.reload(my_class)"
   ]
  },
  {
   "cell_type": "code",
   "execution_count": 6,
   "metadata": {},
   "outputs": [
    {
     "name": "stdout",
     "output_type": "stream",
     "text": [
      "<class 'my_class.MySuperClass'>\n",
      "Help on class MySuperClass in module my_class:\n",
      "\n",
      "class MySuperClass(builtins.object)\n",
      " |  MySuperClass(surname, name, mark)\n",
      " |  \n",
      " |  Тестовий клас, зараз реалізуємо опис студента\n",
      " |  \n",
      " |  ---\n",
      " |  \n",
      " |  surname : str\n",
      " |      Вороновський\n",
      " |  \n",
      " |  Methods defined here:\n",
      " |  \n",
      " |  __init__(self, surname, name, mark)\n",
      " |      Ініціалізуємо обєкт\n",
      " |      - в середині конструктора створюються атрибути\n",
      " |  \n",
      " |  __len__(self)\n",
      " |  \n",
      " |  __repr__(self)\n",
      " |      Return repr(self).\n",
      " |  \n",
      " |  ----------------------------------------------------------------------\n",
      " |  Data descriptors defined here:\n",
      " |  \n",
      " |  __dict__\n",
      " |      dictionary for instance variables (if defined)\n",
      " |  \n",
      " |  __weakref__\n",
      " |      list of weak references to the object (if defined)\n",
      "\n"
     ]
    }
   ],
   "source": [
    "from my_class import MySuperClass, function_in_module\n",
    "\n",
    "print(MySuperClass)\n",
    "help(MySuperClass)"
   ]
  },
  {
   "cell_type": "code",
   "execution_count": 7,
   "metadata": {},
   "outputs": [
    {
     "name": "stdout",
     "output_type": "stream",
     "text": [
      "['Студент VB B отримав оцінку 4', 'Студент FB B отримав оцінку 5', 'Студент DS S отримав оцінку 3', 'Студент TY D отримав оцінку 4']\n"
     ]
    }
   ],
   "source": [
    "name = [\"B\", \"B\", \"S\", \"D\"]\n",
    "surname = [\"VB\", \"FB\", \"DS\", \"TY\"]\n",
    "mark = [4, 5, 3, 4]\n",
    "\n",
    "print([f\"Студент {surname[i]} {name[i]} отримав оцінку {mark[i]}\" for i in range(len(name))])"
   ]
  },
  {
   "cell_type": "code",
   "execution_count": 8,
   "metadata": {},
   "outputs": [
    {
     "ename": "SyntaxError",
     "evalue": "invalid syntax (4171653643.py, line 8)",
     "output_type": "error",
     "traceback": [
      "\u001b[1;36m  Cell \u001b[1;32mIn[8], line 8\u001b[1;36m\u001b[0m\n\u001b[1;33m    print(f\"Студент {d[\"Прізвище\"][i]} {d[\"Імя\"][i]} отримав оцінку {d[\"Оцінка\"][i]}\")\u001b[0m\n\u001b[1;37m                        ^\u001b[0m\n\u001b[1;31mSyntaxError\u001b[0m\u001b[1;31m:\u001b[0m invalid syntax\n"
     ]
    }
   ],
   "source": [
    "d = {\n",
    "    \"Прізвище\": [\"B\", \"B\", \"S\", \"D\"],\n",
    "    \"Імя\": [\"VB\", \"FB\", \"DS\", \"TY\"],\n",
    "    \"Оцінка\": [4, 5, 3, 4]\n",
    "}\n",
    "\n",
    "for i in range(len(d[\"Прізвище\"])):\n",
    "    print(f\"Студент {d[\"Прізвище\"][i]} {d[\"Імя\"][i]} отримав оцінку {d[\"Оцінка\"][i]}\")"
   ]
  },
  {
   "cell_type": "code",
   "execution_count": null,
   "metadata": {},
   "outputs": [],
   "source": [
    "from my_class import MySuperClass\n",
    "c = [MySuperClass(\"B\", \"VB\", 4),\n",
    "     MySuperClass(\"B\", \"FB\", 5),\n",
    "     MySuperClass(\"S\", \"DS\", 3),\n",
    "     MySuperClass(\"D\", \"TY\", 4)\n",
    "     ]\n",
    "\n",
    "for student in c:\n",
    "    print(f\"Студент {student.surname} {student.name} отримав оцінку {student.mark}\")"
   ]
  },
  {
   "cell_type": "code",
   "execution_count": null,
   "metadata": {},
   "outputs": [
    {
     "name": "stdout",
     "output_type": "stream",
     "text": [
      "Let's Start!\n"
     ]
    },
    {
     "ename": "NameError",
     "evalue": "name 'MyName' is not defined",
     "output_type": "error",
     "traceback": [
      "\u001b[1;31m---------------------------------------------------------------------------\u001b[0m",
      "\u001b[1;31mNameError\u001b[0m                                 Traceback (most recent call last)",
      "Cell \u001b[1;32mIn[2], line 1\u001b[0m\n\u001b[1;32m----> 1\u001b[0m \u001b[38;5;28;01mfrom\u001b[39;00m \u001b[38;5;21;01mmy_class\u001b[39;00m \u001b[38;5;28;01mimport\u001b[39;00m MySuperClass\n\u001b[0;32m      2\u001b[0m obj \u001b[38;5;241m=\u001b[39m MySuperClass(\u001b[38;5;124m\"\u001b[39m\u001b[38;5;124mББаа\u001b[39m\u001b[38;5;124m\"\u001b[39m, \u001b[38;5;124m\"\u001b[39m\u001b[38;5;124mBB\u001b[39m\u001b[38;5;124m\"\u001b[39m, \u001b[38;5;28;01mNone\u001b[39;00m)\n\u001b[0;32m      4\u001b[0m \u001b[38;5;28mprint\u001b[39m(obj)\n",
      "File \u001b[1;32md:\\Тк-441\\YVLaboratorni\\YVLaboratorni\\3_lab\\my_class.py:45\u001b[0m\n\u001b[0;32m     42\u001b[0m \u001b[39mprint\u001b[39m(\u001b[39m\"\u001b[39m\u001b[39mLet\u001b[39m\u001b[39m'\u001b[39m\u001b[39ms Start!\u001b[39m\u001b[39m\"\u001b[39m)\n\u001b[0;32m     44\u001b[0m names \u001b[39m=\u001b[39m (\u001b[39m\"\u001b[39m\u001b[39mYura\u001b[39m\u001b[39m\"\u001b[39m, \u001b[39m\"\u001b[39m\u001b[39mMarta\u001b[39m\u001b[39m\"\u001b[39m, \u001b[39mNone\u001b[39;00m)  \n\u001b[1;32m---> 45\u001b[0m all_names \u001b[39m=\u001b[39m {name: MyName(name) \u001b[39mfor\u001b[39;00m name \u001b[39min\u001b[39;00m names}\n\u001b[0;32m     47\u001b[0m \u001b[39mfor\u001b[39;00m name, me \u001b[39min\u001b[39;00m all_names\u001b[39m.\u001b[39mitems():\n\u001b[0;32m     48\u001b[0m     \u001b[39mprint\u001b[39m(\u001b[39mf\u001b[39m\u001b[39m\"\"\"\u001b[39m\u001b[39m{\u001b[39;00m\u001b[39m\"\u001b[39m\u001b[39m>*<\u001b[39m\u001b[39m\"\u001b[39m\u001b[39m*\u001b[39m\u001b[39m20\u001b[39m\u001b[39m}\u001b[39;00m\n\u001b[0;32m     49\u001b[0m \u001b[39mThis is object: \u001b[39m\u001b[39m{\u001b[39;00mme\u001b[39m}\u001b[39;00m\u001b[39m \u001b[39m\n\u001b[0;32m     50\u001b[0m \u001b[39mThis is object attribute: \u001b[39m\u001b[39m{\u001b[39;00mme\u001b[39m.\u001b[39mname\u001b[39m}\u001b[39;00m\u001b[39m / \u001b[39m\u001b[39m{\u001b[39;00mme\u001b[39m.\u001b[39mmy_id\u001b[39m}\u001b[39;00m\n\u001b[1;32m   (...)\u001b[0m\n\u001b[0;32m     54\u001b[0m \u001b[39mThis is class variable \u001b[39m\u001b[39m{\u001b[39;00m\u001b[39mtype\u001b[39m(MyName\u001b[39m.\u001b[39mtotal_names)\u001b[39m}\u001b[39;00m\u001b[39m: from class \u001b[39m\u001b[39m{\u001b[39;00mMyName\u001b[39m.\u001b[39mtotal_names\u001b[39m}\u001b[39;00m\u001b[39m / from object \u001b[39m\u001b[39m{\u001b[39;00mme\u001b[39m.\u001b[39mtotal_names\u001b[39m}\u001b[39;00m\n\u001b[0;32m     55\u001b[0m \u001b[39m{\u001b[39;00m\u001b[39m\"\u001b[39m\u001b[39m<*>\u001b[39m\u001b[39m\"\u001b[39m\u001b[39m*\u001b[39m\u001b[39m20\u001b[39m\u001b[39m}\u001b[39;00m\u001b[39m\"\"\"\u001b[39m)\n",
      "File \u001b[1;32md:\\Тк-441\\YVLaboratorni\\YVLaboratorni\\3_lab\\my_class.py:45\u001b[0m, in \u001b[0;36m<dictcomp>\u001b[1;34m(.0)\u001b[0m\n\u001b[0;32m     42\u001b[0m \u001b[39mprint\u001b[39m(\u001b[39m\"\u001b[39m\u001b[39mLet\u001b[39m\u001b[39m'\u001b[39m\u001b[39ms Start!\u001b[39m\u001b[39m\"\u001b[39m)\n\u001b[0;32m     44\u001b[0m names \u001b[39m=\u001b[39m (\u001b[39m\"\u001b[39m\u001b[39mYura\u001b[39m\u001b[39m\"\u001b[39m, \u001b[39m\"\u001b[39m\u001b[39mMarta\u001b[39m\u001b[39m\"\u001b[39m, \u001b[39mNone\u001b[39;00m)  \n\u001b[1;32m---> 45\u001b[0m all_names \u001b[39m=\u001b[39m {name: MyName(name) \u001b[39mfor\u001b[39;00m name \u001b[39min\u001b[39;00m names}\n\u001b[0;32m     47\u001b[0m \u001b[39mfor\u001b[39;00m name, me \u001b[39min\u001b[39;00m all_names\u001b[39m.\u001b[39mitems():\n\u001b[0;32m     48\u001b[0m     \u001b[39mprint\u001b[39m(\u001b[39mf\u001b[39m\u001b[39m\"\"\"\u001b[39m\u001b[39m{\u001b[39;00m\u001b[39m\"\u001b[39m\u001b[39m>*<\u001b[39m\u001b[39m\"\u001b[39m\u001b[39m*\u001b[39m\u001b[39m20\u001b[39m\u001b[39m}\u001b[39;00m\n\u001b[0;32m     49\u001b[0m \u001b[39mThis is object: \u001b[39m\u001b[39m{\u001b[39;00mme\u001b[39m}\u001b[39;00m\u001b[39m \u001b[39m\n\u001b[0;32m     50\u001b[0m \u001b[39mThis is object attribute: \u001b[39m\u001b[39m{\u001b[39;00mme\u001b[39m.\u001b[39mname\u001b[39m}\u001b[39;00m\u001b[39m / \u001b[39m\u001b[39m{\u001b[39;00mme\u001b[39m.\u001b[39mmy_id\u001b[39m}\u001b[39;00m\n\u001b[1;32m   (...)\u001b[0m\n\u001b[0;32m     54\u001b[0m \u001b[39mThis is class variable \u001b[39m\u001b[39m{\u001b[39;00m\u001b[39mtype\u001b[39m(MyName\u001b[39m.\u001b[39mtotal_names)\u001b[39m}\u001b[39;00m\u001b[39m: from class \u001b[39m\u001b[39m{\u001b[39;00mMyName\u001b[39m.\u001b[39mtotal_names\u001b[39m}\u001b[39;00m\u001b[39m / from object \u001b[39m\u001b[39m{\u001b[39;00mme\u001b[39m.\u001b[39mtotal_names\u001b[39m}\u001b[39;00m\n\u001b[0;32m     55\u001b[0m \u001b[39m{\u001b[39;00m\u001b[39m\"\u001b[39m\u001b[39m<*>\u001b[39m\u001b[39m\"\u001b[39m\u001b[39m*\u001b[39m\u001b[39m20\u001b[39m\u001b[39m}\u001b[39;00m\u001b[39m\"\"\"\u001b[39m)\n",
      "\u001b[1;31mNameError\u001b[0m: name 'MyName' is not defined"
     ]
    }
   ],
   "source": [
    "from my_class import MySuperClass\n",
    "obj = MySuperClass(\"ББаа\", \"BB\", None)\n",
    "\n",
    "print(obj)\n",
    "help(obj)\n",
    "\n",
    "print(MySuperClass.__doc__)\n",
    "\n",
    "print(\"Довжина прізвища: \", len(obj))\n",
    "\n",
    "print(\"Беремо атрибут імені\", obj.name)\n"
   ]
  }
 ],
 "metadata": {
  "kernelspec": {
   "display_name": "Python 3.8.6 32-bit",
   "language": "python",
   "name": "python3"
  },
  "language_info": {
   "codemirror_mode": {
    "name": "ipython",
    "version": 3
   },
   "file_extension": ".py",
   "mimetype": "text/x-python",
   "name": "python",
   "nbconvert_exporter": "python",
   "pygments_lexer": "ipython3",
   "version": "3.8.6"
  },
  "orig_nbformat": 4,
  "vscode": {
   "interpreter": {
    "hash": "10dc22ba229f885a15fdb38153a22e7da339ac0ad2411ac1bde6e4d40ff38cec"
   }
  }
 },
 "nbformat": 4,
 "nbformat_minor": 2
}
