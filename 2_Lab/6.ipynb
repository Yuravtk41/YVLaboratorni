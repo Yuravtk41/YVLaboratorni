{
 "cells": [
  {
   "cell_type": "markdown",
   "metadata": {},
   "source": [
    "##### У цьому прикладі, якщо ми спробуємо поділити на нуль, з'явиться повідомлення про помилку, але блок finally все одно буде виконано."
   ]
  },
  {
   "cell_type": "code",
   "execution_count": 4,
   "metadata": {},
   "outputs": [
    {
     "name": "stdout",
     "output_type": "stream",
     "text": [
      "Помилка: ділення на нуль!\n",
      "Цей блок виконується завжди.\n"
     ]
    }
   ],
   "source": [
    "def divide_numbers(a, b):\n",
    "    try:\n",
    "        result = a / b\n",
    "        print(f\"Результат: {result}\")\n",
    "    except ZeroDivisionError:\n",
    "        print(\"Помилка: ділення на нуль!\")\n",
    "    finally:\n",
    "        print(\"Цей блок виконується завжди.\")\n",
    "\n",
    "# Викликаємо функцію з помилкою\n",
    "divide_numbers(10, 0)\n"
   ]
  }
 ],
 "metadata": {
  "kernelspec": {
   "display_name": "Python 3.8.6 32-bit",
   "language": "python",
   "name": "python3"
  },
  "language_info": {
   "codemirror_mode": {
    "name": "ipython",
    "version": 3
   },
   "file_extension": ".py",
   "mimetype": "text/x-python",
   "name": "python",
   "nbconvert_exporter": "python",
   "pygments_lexer": "ipython3",
   "version": "3.8.6"
  },
  "orig_nbformat": 4,
  "vscode": {
   "interpreter": {
    "hash": "10dc22ba229f885a15fdb38153a22e7da339ac0ad2411ac1bde6e4d40ff38cec"
   }
  }
 },
 "nbformat": 4,
 "nbformat_minor": 2
}
