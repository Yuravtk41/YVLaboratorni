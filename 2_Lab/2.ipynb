{
 "cells": [
  {
   "cell_type": "code",
   "execution_count": 1,
   "metadata": {},
   "outputs": [
    {
     "name": "stdout",
     "output_type": "stream",
     "text": [
      "Перша константа:  True\n",
      "І можна так робити вивід? True\n"
     ]
    }
   ],
   "source": [
    "print(\"Перша константа: \", True)\n",
    "print(f\"І можна так робити вивід? {True}\")"
   ]
  },
  {
   "cell_type": "markdown",
   "metadata": {},
   "source": []
  },
  {
   "cell_type": "code",
   "execution_count": 2,
   "metadata": {},
   "outputs": [
    {
     "name": "stdout",
     "output_type": "stream",
     "text": [
      "Площа кола з радіусом 5 = 78.53975\n"
     ]
    }
   ],
   "source": [
    "# Константи\n",
    "PI = 3.14159\n",
    "RADIUS = 5\n",
    "\n",
    "# Обчислення площі кола\n",
    "area = PI * (RADIUS ** 2)\n",
    "print(f\"Площа кола з радіусом {RADIUS} = {area}\")\n"
   ]
  },
  {
   "cell_type": "markdown",
   "metadata": {},
   "source": [
    "##### Ця програма використовує константу для значення π (пі) та радіуса кола."
   ]
  },
  {
   "cell_type": "code",
   "execution_count": 3,
   "metadata": {},
   "outputs": [
    {
     "name": "stdout",
     "output_type": "stream",
     "text": [
      "Об'єм циліндра з радіусом 3 та висотою 7 = 197.92016999999998\n"
     ]
    }
   ],
   "source": [
    "# Константи\n",
    "PI = 3.14159\n",
    "RADIUS = 3\n",
    "HEIGHT = 7\n",
    "\n",
    "# Обчислення об'єму циліндра\n",
    "volume = PI * (RADIUS ** 2) * HEIGHT\n",
    "print(f\"Об'єм циліндра з радіусом {RADIUS} та висотою {HEIGHT} = {volume}\")\n"
   ]
  },
  {
   "cell_type": "markdown",
   "metadata": {},
   "source": [
    "##### Ця програма використовує константи для значення π (пі), радіуса основи та висоти циліндра."
   ]
  }
 ],
 "metadata": {
  "kernelspec": {
   "display_name": "Python 3.8.6 32-bit",
   "language": "python",
   "name": "python3"
  },
  "language_info": {
   "codemirror_mode": {
    "name": "ipython",
    "version": 3
   },
   "file_extension": ".py",
   "mimetype": "text/x-python",
   "name": "python",
   "nbconvert_exporter": "python",
   "pygments_lexer": "ipython3",
   "version": "3.8.6"
  },
  "orig_nbformat": 4,
  "vscode": {
   "interpreter": {
    "hash": "10dc22ba229f885a15fdb38153a22e7da339ac0ad2411ac1bde6e4d40ff38cec"
   }
  }
 },
 "nbformat": 4,
 "nbformat_minor": 2
}
