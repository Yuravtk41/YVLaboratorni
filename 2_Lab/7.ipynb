{
 "cells": [
  {
   "cell_type": "code",
   "execution_count": 27,
   "metadata": {},
   "outputs": [
    {
     "name": "stdout",
     "output_type": "stream",
     "text": [
      "Tom: 9\n",
      "Alice: 8\n",
      "David: 7\n",
      "Bob: 5\n",
      "Garfield: 2\n"
     ]
    }
   ],
   "source": [
    "students = [\n",
    "\n",
    "\t\t{'name': 'Alice', 'grade': 8},\n",
    "    {'name': 'Bob', 'grade': 5},\n",
    "    {'name': 'Tom', 'grade': 9},\n",
    "    {'name': 'David', 'grade': 7},\n",
    "    {'name': 'Garfield', 'grade': 2}\n",
    "]\n",
    "\n",
    "# Фільтруємо студентів з оцінкою вище 1\n",
    "high_achievers = filter(lambda student: student['grade'] > 1, students)\n",
    "\n",
    "# Сортуємо студентів за оцінками\n",
    "sorted_students = sorted(high_achievers, key=lambda student: student['grade'], reverse=True)\n",
    "\n",
    "# Виводимо результати\n",
    "for student in sorted_students:\n",
    "    print(f\"{student['name']}: {student['grade']}\")\n"
   ]
  }
 ],
 "metadata": {
  "kernelspec": {
   "display_name": "Python 3.8.6 32-bit",
   "language": "python",
   "name": "python3"
  },
  "language_info": {
   "codemirror_mode": {
    "name": "ipython",
    "version": 3
   },
   "file_extension": ".py",
   "mimetype": "text/x-python",
   "name": "python",
   "nbconvert_exporter": "python",
   "pygments_lexer": "ipython3",
   "version": "3.8.6"
  },
  "orig_nbformat": 4,
  "vscode": {
   "interpreter": {
    "hash": "10dc22ba229f885a15fdb38153a22e7da339ac0ad2411ac1bde6e4d40ff38cec"
   }
  }
 },
 "nbformat": 4,
 "nbformat_minor": 2
}
