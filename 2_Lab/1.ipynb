{
 "cells": [
  {
   "cell_type": "markdown",
   "metadata": {},
   "source": [
    "### Завдання 1. \n",
    "Попрацював з допомогою ChatGPT із:\n",
    "1. Стрічками \n",
    "1. Числовими змінними\n",
    "1. List\n",
    "1. dictionary\n",
    "1. tuple\n",
    "1. set (множини)\n"
   ]
  },
  {
   "cell_type": "code",
   "execution_count": 112,
   "metadata": {},
   "outputs": [
    {
     "name": "stdout",
     "output_type": "stream",
     "text": [
      "Довжина рядка: 18\n",
      "PYTHON - ЦЕ КРУТО!\n",
      "python - це круто!\n",
      "Чи є 'Python' в тексті? True\n"
     ]
    }
   ],
   "source": [
    "текст = \"Python - це круто!\"\n",
    "\n",
    "# Довжина рядка\n",
    "довжина = len(текст)\n",
    "print(f\"Довжина рядка: {довжина}\")\n",
    "\n",
    "# Зміна регістру\n",
    "верхній_регістр = текст.upper()\n",
    "нижній_регістр = текст.lower()\n",
    "print(верхній_регістр)\n",
    "print(нижній_регістр)\n",
    "\n",
    "# Перевірка наявності підрядка\n",
    "є_python = \"Python\" in текст\n",
    "print(f\"Чи є 'Python' в тексті? {є_python}\")\n"
   ]
  },
  {
   "cell_type": "code",
   "execution_count": 113,
   "metadata": {},
   "outputs": [
    {
     "name": "stdout",
     "output_type": "stream",
     "text": [
      "Сума 10 і 3 дорівнює: 13\n",
      "Різниця між 10 і 3 дорівнює: 7\n",
      "Добуток 10 і 3 дорівнює: 30\n",
      "Частка 10 і 3 дорівнює: 3.3333333333333335\n",
      "Цілочисельне ділення 10 на 3 дає: 3\n",
      "Остача від ділення 10 на 3 дорівнює: 1\n",
      "10 в степені 3 дорівнює: 1000\n"
     ]
    }
   ],
   "source": [
    "# Оголошення числових змінних\n",
    "число_1 = 10\n",
    "число_2 = 3\n",
    "\n",
    "# Додавання\n",
    "сума = число_1 + число_2\n",
    "print(f\"Сума {число_1} і {число_2} дорівнює: {сума}\")\n",
    "\n",
    "# Віднімання\n",
    "різниця = число_1 - число_2\n",
    "print(f\"Різниця між {число_1} і {число_2} дорівнює: {різниця}\")\n",
    "\n",
    "# Множення\n",
    "добуток = число_1 * число_2\n",
    "print(f\"Добуток {число_1} і {число_2} дорівнює: {добуток}\")\n",
    "\n",
    "# Ділення\n",
    "частка = число_1 / число_2\n",
    "print(f\"Частка {число_1} і {число_2} дорівнює: {частка}\")\n",
    "\n",
    "# Цілочисельне ділення\n",
    "цілочисельна_частка = число_1 // число_2\n",
    "print(f\"Цілочисельне ділення {число_1} на {число_2} дає: {цілочисельна_частка}\")\n",
    "\n",
    "# Остача від ділення\n",
    "остача = число_1 % число_2\n",
    "print(f\"Остача від ділення {число_1} на {число_2} дорівнює: {остача}\")\n",
    "\n",
    "# Піднесення до степеня\n",
    "степінь = число_1 ** число_2\n",
    "print(f\"{число_1} в степені {число_2} дорівнює: {степінь}\")"
   ]
  },
  {
   "cell_type": "code",
   "execution_count": 114,
   "metadata": {},
   "outputs": [
    {
     "name": "stdout",
     "output_type": "stream",
     "text": [
      "[1, 'Bom bom', True, 3.14]\n"
     ]
    }
   ],
   "source": [
    "# Список з числами, рядками та булевими значеннями\n",
    "mixed_list = [1, \"Bom bom\", True, 3.14]\n",
    "\n",
    "# Виведення змішаного списку на екран\n",
    "print(mixed_list)\n"
   ]
  },
  {
   "cell_type": "code",
   "execution_count": 115,
   "metadata": {},
   "outputs": [
    {
     "name": "stdout",
     "output_type": "stream",
     "text": [
      "{'назва': 'Майстер і Маргарита', 'автор': 'Михайло Булгаков', 'рік_видання': 1967, 'жанр': 'роман', 'оцінка': 4.8}\n"
     ]
    }
   ],
   "source": [
    "# Створення словника з інформацією про книгу\n",
    "книга = {\n",
    "    \"назва\": \"Майстер і Маргарита\",\n",
    "    \"автор\": \"Михайло Булгаков\",\n",
    "    \"рік_видання\": 1967,\n",
    "    \"жанр\": \"роман\",\n",
    "    \"оцінка\": 4.8\n",
    "}\n",
    "\n",
    "# Виведення словника на екран\n",
    "print(книга)\n"
   ]
  },
  {
   "cell_type": "code",
   "execution_count": 116,
   "metadata": {},
   "outputs": [
    {
     "name": "stdout",
     "output_type": "stream",
     "text": [
      "(10, 20)\n",
      "X: 10, Y: 20\n"
     ]
    }
   ],
   "source": [
    "# Створення кортежу з інформацією про координати\n",
    "координати = (10, 20)\n",
    "\n",
    "# Виведення кортежу на екран\n",
    "print(координати)\n",
    "\n",
    "# Доступ до елементів кортежу\n",
    "x = координати[0]\n",
    "y = координати[1]\n",
    "print(f\"X: {x}, Y: {y}\")\n"
   ]
  },
  {
   "cell_type": "code",
   "execution_count": 117,
   "metadata": {},
   "outputs": [
    {
     "name": "stdout",
     "output_type": "stream",
     "text": [
      "{'груша', 'апельсин', 'банан', 'яблуко'}\n",
      "{'яблуко', 'груша', 'апельсин', 'киві', 'банан'}\n",
      "{'яблуко', 'апельсин', 'киві', 'банан'}\n",
      "Чи є 'яблуко' у множині? True\n"
     ]
    }
   ],
   "source": [
    "# Створення множини з унікальними елементами\n",
    "фрукти = {\"яблуко\", \"банан\", \"апельсин\", \"груша\", \"банан\"}\n",
    "\n",
    "# Виведення множини на екран\n",
    "print(фрукти)\n",
    "\n",
    "# Додавання нового елемента до множини\n",
    "фрукти.add(\"киві\")\n",
    "print(фрукти)\n",
    "\n",
    "# Видалення елемента з множини\n",
    "фрукти.remove(\"груша\")\n",
    "print(фрукти)\n",
    "\n",
    "# Перевірка наявності елемента\n",
    "є_яблуко = \"яблуко\" in фрукти\n",
    "print(f\"Чи є 'яблуко' у множині? {є_яблуко}\")\n"
   ]
  },
  {
   "cell_type": "markdown",
   "metadata": {},
   "source": [
    "### Завдання 2. Вбудовані константи\n"
   ]
  },
  {
   "cell_type": "markdown",
   "metadata": {},
   "source": [
    "##### Ця програма використовує константу для значення π (пі) та радіуса кола."
   ]
  },
  {
   "cell_type": "code",
   "execution_count": 118,
   "metadata": {},
   "outputs": [
    {
     "name": "stdout",
     "output_type": "stream",
     "text": [
      "Площа кола з радіусом 5 = 78.53975\n"
     ]
    }
   ],
   "source": [
    "# Константи\n",
    "PI = 3.14159\n",
    "RADIUS = 5\n",
    "\n",
    "# Обчислення площі кола\n",
    "area = PI * (RADIUS ** 2)\n",
    "print(f\"Площа кола з радіусом {RADIUS} = {area}\")\n"
   ]
  },
  {
   "cell_type": "markdown",
   "metadata": {},
   "source": [
    "##### Ця програма використовує константи для значення π (пі), радіуса основи та висоти циліндра."
   ]
  },
  {
   "cell_type": "code",
   "execution_count": 119,
   "metadata": {},
   "outputs": [
    {
     "name": "stdout",
     "output_type": "stream",
     "text": [
      "Об'єм циліндра з радіусом 3 та висотою 7 = 197.92016999999998\n"
     ]
    }
   ],
   "source": [
    "# Константи\n",
    "PI = 3.14159\n",
    "RADIUS = 3\n",
    "HEIGHT = 7\n",
    "\n",
    "# Обчислення об'єму циліндра\n",
    "volume = PI * (RADIUS ** 2) * HEIGHT\n",
    "print(f\"Об'єм циліндра з радіусом {RADIUS} та висотою {HEIGHT} = {volume}\")\n"
   ]
  },
  {
   "cell_type": "markdown",
   "metadata": {},
   "source": [
    "### Завдання 3. Вбудовані функції"
   ]
  },
  {
   "cell_type": "markdown",
   "metadata": {},
   "source": [
    "##### У програмі функція sum() обчислює суму елементів ітерабельного об'єкта (наприклад, списку)."
   ]
  },
  {
   "cell_type": "code",
   "execution_count": 120,
   "metadata": {},
   "outputs": [
    {
     "name": "stdout",
     "output_type": "stream",
     "text": [
      "Сума чисел: 100\n"
     ]
    }
   ],
   "source": [
    "# Список чисел\n",
    "числа = [10, 20, 30, 40]\n",
    "\n",
    "# Використання функції sum() для обчислення суми елементів\n",
    "сума = sum(числа)\n",
    "\n",
    "# Виведення результату\n",
    "print(f\"Сума чисел: {сума}\")\n"
   ]
  },
  {
   "cell_type": "markdown",
   "metadata": {},
   "source": [
    "##### У програмі функція max() знаходить найбільше значення серед елементів ітерабельного об'єкта."
   ]
  },
  {
   "cell_type": "code",
   "execution_count": 121,
   "metadata": {},
   "outputs": [
    {
     "name": "stdout",
     "output_type": "stream",
     "text": [
      "Найбільше число: 50\n"
     ]
    }
   ],
   "source": [
    "# Список чисел\n",
    "числа = [5, 12, 3, 50, 1]\n",
    "\n",
    "# Використання функції max() для пошуку найбільшого числа\n",
    "макс_значення = max(числа)\n",
    "\n",
    "# Виведення результату\n",
    "print(f\"Найбільше число: {макс_значення}\")\n"
   ]
  },
  {
   "cell_type": "markdown",
   "metadata": {},
   "source": [
    "### Завдання 4. Робота циклів"
   ]
  },
  {
   "cell_type": "markdown",
   "metadata": {},
   "source": [
    "##### Ця програма виводить квадрати чисел від 1 до 10 використовуючи цикл while"
   ]
  },
  {
   "cell_type": "code",
   "execution_count": 122,
   "metadata": {},
   "outputs": [
    {
     "name": "stdout",
     "output_type": "stream",
     "text": [
      "Квадрати чисел від 1 до 10:\n",
      "1^2 = 1\n",
      "2^2 = 4\n",
      "3^2 = 9\n",
      "4^2 = 16\n",
      "5^2 = 25\n",
      "6^2 = 36\n",
      "7^2 = 49\n",
      "8^2 = 64\n",
      "9^2 = 81\n",
      "10^2 = 100\n"
     ]
    }
   ],
   "source": [
    "# Програма з циклом for\n",
    "print(\"Квадрати чисел від 1 до 10:\")\n",
    "for i in range(1, 11):\n",
    "    print(f\"{i}^2 = {i**2}\")\n"
   ]
  },
  {
   "cell_type": "markdown",
   "metadata": {},
   "source": [
    "##### Ця програма виводить числа від 1 до 10 використовуючи цикл for"
   ]
  },
  {
   "cell_type": "code",
   "execution_count": 123,
   "metadata": {},
   "outputs": [
    {
     "name": "stdout",
     "output_type": "stream",
     "text": [
      "Числа від 1 до 10:\n",
      "1\n",
      "2\n",
      "3\n",
      "4\n",
      "5\n",
      "6\n",
      "7\n",
      "8\n",
      "9\n",
      "10\n"
     ]
    }
   ],
   "source": [
    "# Програма з циклом while\n",
    "print(\"Числа від 1 до 10:\")\n",
    "i = 1\n",
    "while i <= 10:\n",
    "    print(i)\n",
    "    i += 1\n"
   ]
  },
  {
   "cell_type": "markdown",
   "metadata": {},
   "source": [
    "### Завдання 5. Рогалуження "
   ]
  },
  {
   "cell_type": "markdown",
   "metadata": {},
   "source": [
    "##### Використання умовних операторів if, elif та else для розгалуження логіки виконання програми."
   ]
  },
  {
   "cell_type": "code",
   "execution_count": 124,
   "metadata": {},
   "outputs": [
    {
     "name": "stdout",
     "output_type": "stream",
     "text": [
      "7 є непарним числом.\n",
      "10 є парним числом.\n"
     ]
    }
   ],
   "source": [
    "def check_even_odd(number):\n",
    "    if number % 2 == 0:\n",
    "        print(f\"{number} є парним числом.\")\n",
    "    else:\n",
    "        print(f\"{number} є непарним числом.\")\n",
    "\n",
    "# Викликаємо функцію\n",
    "check_even_odd(7)\n",
    "check_even_odd(10)\n"
   ]
  },
  {
   "cell_type": "code",
   "execution_count": 125,
   "metadata": {},
   "outputs": [
    {
     "name": "stdout",
     "output_type": "stream",
     "text": [
      "Добре!\n",
      "Незадовільно!\n"
     ]
    }
   ],
   "source": [
    "def evaluate_grade(grade):\n",
    "    if grade >= 90:\n",
    "        print(\"Відмінно!\")\n",
    "    elif grade >= 75:\n",
    "        print(\"Добре!\")\n",
    "    elif grade >= 50:\n",
    "        print(\"Задовільно!\")\n",
    "    else:\n",
    "        print(\"Незадовільно!\")\n",
    "\n",
    "# Викликаємо функцію\n",
    "evaluate_grade(85)\n",
    "evaluate_grade(45)\n"
   ]
  },
  {
   "cell_type": "markdown",
   "metadata": {},
   "source": [
    "### Завдання 6. Виявлення помилок \n",
    "##### У конструкції try->except->finally"
   ]
  },
  {
   "cell_type": "markdown",
   "metadata": {},
   "source": [
    "##### У цьому прикладі, якщо ми спробуємо поділити на нуль, з'явиться повідомлення про помилку, але блок finally все одно буде виконано."
   ]
  },
  {
   "cell_type": "code",
   "execution_count": 126,
   "metadata": {},
   "outputs": [
    {
     "name": "stdout",
     "output_type": "stream",
     "text": [
      "Помилка: ділення на нуль!\n",
      "Цей блок виконується завжди.\n"
     ]
    }
   ],
   "source": [
    "def divide_numbers(a, b):\n",
    "    try:\n",
    "        result = a / b\n",
    "        print(f\"Результат: {result}\")\n",
    "    except ZeroDivisionError:\n",
    "        print(\"Помилка: ділення на нуль!\")\n",
    "    finally:\n",
    "        print(\"Цей блок виконується завжди.\")\n",
    "\n",
    "# Викликаємо функцію з помилкою\n",
    "divide_numbers(10, 0)\n"
   ]
  },
  {
   "cell_type": "markdown",
   "metadata": {},
   "source": [
    "### Завдання 7. Контекст-менеджер with"
   ]
  },
  {
   "cell_type": "markdown",
   "metadata": {},
   "source": [
    "##### Цей код автоматично закриває файл після того, як операції читання завершено, та виводить слова, які були знайдені у файлі."
   ]
  },
  {
   "cell_type": "code",
   "execution_count": 127,
   "metadata": {},
   "outputs": [
    {
     "name": "stdout",
     "output_type": "stream",
     "text": [
      "Python\n",
      "контекст\n",
      "код\n"
     ]
    }
   ],
   "source": [
    "# Контекстний менеджер для читання файлу та виведення певних слів\n",
    "with open('tom.txt', 'r', encoding='UTF-8') as file:\n",
    "    # Читання всього вмісту файлу\n",
    "    текст = file.read()\n",
    "    \n",
    "    # Перелік слів, які потрібно знайти у файлі\n",
    "    потрібні_слова = ['Python', 'файл', 'контекст', 'код']\n",
    "\n",
    "    # Перевірка та виведення кожного слова\n",
    "    for слово in потрібні_слова:\n",
    "        if слово in текст:\n",
    "            print(слово)\n"
   ]
  },
  {
   "cell_type": "markdown",
   "metadata": {},
   "source": [
    "### Завдання 8. Python lambdas"
   ]
  },
  {
   "cell_type": "markdown",
   "metadata": {},
   "source": [
    "##### Код працює з Lamda для обчислення квадрату числа та для додавання двох чисел"
   ]
  },
  {
   "cell_type": "code",
   "execution_count": 128,
   "metadata": {},
   "outputs": [
    {
     "name": "stdout",
     "output_type": "stream",
     "text": [
      "Квадрат числа 5: 25\n",
      "Сума чисел 3 і 7: 10\n"
     ]
    }
   ],
   "source": [
    "# Використання lambda для обчислення квадрата числа\n",
    "квадрат = lambda x: x ** 2\n",
    "\n",
    "# Виклик lambda-функції\n",
    "результат = квадрат(5)\n",
    "print(f\"Квадрат числа 5: {результат}\")\n",
    "\n",
    "# Lambda для додавання двох чисел\n",
    "додавання = lambda a, b: a + b\n",
    "сума = додавання(3, 7)\n",
    "print(f\"Сума чисел 3 і 7: {сума}\")\n"
   ]
  }
 ],
 "metadata": {
  "kernelspec": {
   "display_name": "Python 3",
   "language": "python",
   "name": "python3"
  },
  "language_info": {
   "codemirror_mode": {
    "name": "ipython",
    "version": 3
   },
   "file_extension": ".py",
   "mimetype": "text/x-python",
   "name": "python",
   "nbconvert_exporter": "python",
   "pygments_lexer": "ipython3",
   "version": "3.12.6"
  }
 },
 "nbformat": 4,
 "nbformat_minor": 2
}
