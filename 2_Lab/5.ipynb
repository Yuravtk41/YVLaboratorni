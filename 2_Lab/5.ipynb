{
 "cells": [
  {
   "cell_type": "markdown",
   "metadata": {},
   "source": [
    "##### В обох прикладах використовуються умовні оператори if, elif та else для розгалуження логіки виконання програми."
   ]
  },
  {
   "cell_type": "code",
   "execution_count": 9,
   "metadata": {},
   "outputs": [
    {
     "name": "stdout",
     "output_type": "stream",
     "text": [
      "7 є непарним числом.\n",
      "10 є парним числом.\n"
     ]
    }
   ],
   "source": [
    "def check_even_odd(number):\n",
    "    if number % 2 == 0:\n",
    "        print(f\"{number} є парним числом.\")\n",
    "    else:\n",
    "        print(f\"{number} є непарним числом.\")\n",
    "\n",
    "# Викликаємо функцію\n",
    "check_even_odd(7)\n",
    "check_even_odd(10)\n"
   ]
  },
  {
   "cell_type": "code",
   "execution_count": 10,
   "metadata": {},
   "outputs": [
    {
     "name": "stdout",
     "output_type": "stream",
     "text": [
      "Добре!\n",
      "Незадовільно!\n"
     ]
    }
   ],
   "source": [
    "def evaluate_grade(grade):\n",
    "    if grade >= 90:\n",
    "        print(\"Відмінно!\")\n",
    "    elif grade >= 75:\n",
    "        print(\"Добре!\")\n",
    "    elif grade >= 50:\n",
    "        print(\"Задовільно!\")\n",
    "    else:\n",
    "        print(\"Незадовільно!\")\n",
    "\n",
    "# Викликаємо функцію\n",
    "evaluate_grade(85)\n",
    "evaluate_grade(45)\n"
   ]
  }
 ],
 "metadata": {
  "kernelspec": {
   "display_name": "Python 3.8.6 32-bit",
   "language": "python",
   "name": "python3"
  },
  "language_info": {
   "codemirror_mode": {
    "name": "ipython",
    "version": 3
   },
   "file_extension": ".py",
   "mimetype": "text/x-python",
   "name": "python",
   "nbconvert_exporter": "python",
   "pygments_lexer": "ipython3",
   "version": "3.8.6"
  },
  "orig_nbformat": 4,
  "vscode": {
   "interpreter": {
    "hash": "10dc22ba229f885a15fdb38153a22e7da339ac0ad2411ac1bde6e4d40ff38cec"
   }
  }
 },
 "nbformat": 4,
 "nbformat_minor": 2
}
