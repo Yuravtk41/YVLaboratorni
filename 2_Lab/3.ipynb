{
 "cells": [
  {
   "cell_type": "markdown",
   "metadata": {},
   "source": [
    "##### Ця програма виводить абсолютне значення числа 5 і супроводжує це повідомленням про рівність."
   ]
  },
  {
   "cell_type": "code",
   "execution_count": 2,
   "metadata": {},
   "outputs": [
    {
     "name": "stdout",
     "output_type": "stream",
     "text": [
      "5 є рівним 5\n"
     ]
    }
   ],
   "source": [
    "print(abs(5), f\"є рівним {abs(5)}\")"
   ]
  },
  {
   "cell_type": "markdown",
   "metadata": {},
   "source": [
    "##### У програмі функція sum() обчислює суму елементів ітерабельного об'єкта (наприклад, списку)."
   ]
  },
  {
   "cell_type": "code",
   "execution_count": 3,
   "metadata": {},
   "outputs": [
    {
     "name": "stdout",
     "output_type": "stream",
     "text": [
      "Сума чисел: 100\n"
     ]
    }
   ],
   "source": [
    "# Список чисел\n",
    "числа = [10, 20, 30, 40]\n",
    "\n",
    "# Використання функції sum() для обчислення суми елементів\n",
    "сума = sum(числа)\n",
    "\n",
    "# Виведення результату\n",
    "print(f\"Сума чисел: {сума}\")\n"
   ]
  },
  {
   "cell_type": "markdown",
   "metadata": {},
   "source": [
    "##### У програмі функція max() знаходить найбільше значення серед елементів ітерабельного об'єкта."
   ]
  },
  {
   "cell_type": "code",
   "execution_count": null,
   "metadata": {},
   "outputs": [],
   "source": [
    "# Список чисел\n",
    "числа = [5, 12, 3, 50, 1]\n",
    "\n",
    "# Використання функції max() для пошуку найбільшого числа\n",
    "макс_значення = max(числа)\n",
    "\n",
    "# Виведення результату\n",
    "print(f\"Найбільше число: {макс_значення}\")\n"
   ]
  }
 ],
 "metadata": {
  "kernelspec": {
   "display_name": "Python 3",
   "language": "python",
   "name": "python3"
  },
  "language_info": {
   "codemirror_mode": {
    "name": "ipython",
    "version": 3
   },
   "file_extension": ".py",
   "mimetype": "text/x-python",
   "name": "python",
   "nbconvert_exporter": "python",
   "pygments_lexer": "ipython3",
   "version": "3.12.6"
  }
 },
 "nbformat": 4,
 "nbformat_minor": 2
}
