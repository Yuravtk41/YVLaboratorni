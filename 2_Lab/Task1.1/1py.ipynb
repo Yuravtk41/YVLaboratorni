{
 "cells": [
  {
   "cell_type": "code",
   "execution_count": 7,
   "metadata": {},
   "outputs": [
    {
     "name": "stdout",
     "output_type": "stream",
     "text": [
      "Довжина рядка: 18\n",
      "PYTHON - ЦЕ КРУТО!\n",
      "python - це круто!\n",
      "Чи є 'Python' в тексті? True\n"
     ]
    }
   ],
   "source": [
    "текст = \"Python - це круто!\"\n",
    "\n",
    "# Довжина рядка\n",
    "довжина = len(текст)\n",
    "print(f\"Довжина рядка: {довжина}\")\n",
    "\n",
    "# Зміна регістру\n",
    "верхній_регістр = текст.upper()\n",
    "нижній_регістр = текст.lower()\n",
    "print(верхній_регістр)\n",
    "print(нижній_регістр)\n",
    "\n",
    "# Перевірка наявності підрядка\n",
    "є_python = \"Python\" in текст\n",
    "print(f\"Чи є 'Python' в тексті? {є_python}\")\n"
   ]
  },
  {
   "cell_type": "markdown",
   "metadata": {},
   "source": [
    "### 6. Різні операції з рядками\n",
    "\n",
    "У цьому прикладі ми виконуємо кілька операцій з рядком:\n",
    "\n",
    "```python\n",
    "текст = \"Python - це круто!\"\n",
    "\n",
    "# Довжина рядка\n",
    "довжина = len(текст)\n",
    "print(f\"Довжина рядка: {довжина}\")\n",
    "\n",
    "# Зміна регістру\n",
    "верхній_регістр = текст.upper()\n",
    "нижній_регістр = текст.lower()\n",
    "print(верхній_регістр)\n",
    "print(нижній_регістр)\n",
    "\n",
    "# Перевірка наявності підрядка\n",
    "є_python = \"Python\" in текст\n",
    "print(f\"Чи є 'Python' в тексті? {є_python}\")\n"
   ]
  }
 ],
 "metadata": {
  "kernelspec": {
   "display_name": "Python 3",
   "language": "python",
   "name": "python3"
  },
  "language_info": {
   "codemirror_mode": {
    "name": "ipython",
    "version": 3
   },
   "file_extension": ".py",
   "mimetype": "text/x-python",
   "name": "python",
   "nbconvert_exporter": "python",
   "pygments_lexer": "ipython3",
   "version": "3.12.6"
  }
 },
 "nbformat": 4,
 "nbformat_minor": 2
}
